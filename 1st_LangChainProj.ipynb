{
  "nbformat": 4,
  "nbformat_minor": 0,
  "metadata": {
    "colab": {
      "provenance": [],
      "authorship_tag": "ABX9TyM8toSOa+qXB27isAaka9iV",
      "include_colab_link": true
    },
    "kernelspec": {
      "name": "python3",
      "display_name": "Python 3"
    },
    "language_info": {
      "name": "python"
    }
  },
  "cells": [
    {
      "cell_type": "markdown",
      "metadata": {
        "id": "view-in-github",
        "colab_type": "text"
      },
      "source": [
        "<a href=\"https://colab.research.google.com/github/Mkhan512/B63_Q2_Projects/blob/LangChain_Projects/1st_LangChainProj.ipynb\" target=\"_parent\"><img src=\"https://colab.research.google.com/assets/colab-badge.svg\" alt=\"Open In Colab\"/></a>"
      ]
    },
    {
      "cell_type": "markdown",
      "source": [
        "#Project 1: LangChain Hello World Project\n",
        "            In this Project, we will create a simple LangChain Colab Notebook that uses the Google Gemini Flash 2.0 model to answer user questions. This example below is provided to help you get started assumes you have access to the Gemini API and a basic Python environment. However, you are required to develop and submit your project using Google Colab."
      ],
      "metadata": {
        "id": "kjDcrBbn81yQ"
      }
    },
    {
      "cell_type": "markdown",
      "source": [
        "**Step 1: Set Up Environment**"
      ],
      "metadata": {
        "id": "cDryGJX9IZGy"
      }
    },
    {
      "cell_type": "code",
      "source": [
        "!apt-get update\n",
        "!apt-get install -y build-essential libtool autoconf python3-dev"
      ],
      "metadata": {
        "collapsed": true,
        "id": "xDRxvNzoqP7A"
      },
      "execution_count": null,
      "outputs": []
    },
    {
      "cell_type": "code",
      "source": [
        "!wget http://libarchive.googlecode.com/files/libarchive-3.0.3.tar.gz\n",
        "!tar xzf libarchive-3.0.3.tar.gz"
      ],
      "metadata": {
        "collapsed": true,
        "id": "Yftjo6RfpKW9"
      },
      "execution_count": null,
      "outputs": []
    },
    {
      "cell_type": "code",
      "source": [
        "%cd libarchive-3.0.3\n",
        "!./build/autogen.sh\n",
        "!./configure --prefix=/usr/local\n",
        "!make\n",
        "!make install"
      ],
      "metadata": {
        "id": "2eVbrU-Oo0EU"
      },
      "execution_count": null,
      "outputs": []
    },
    {
      "cell_type": "code",
      "source": [],
      "metadata": {
        "id": "tT7FRAlVpt0B"
      },
      "execution_count": null,
      "outputs": []
    },
    {
      "cell_type": "code",
      "source": [
        "!pip install langchain.GOOGLE_genai"
      ],
      "metadata": {
        "collapsed": true,
        "id": "HXGEk7KQpAmh"
      },
      "execution_count": null,
      "outputs": []
    },
    {
      "cell_type": "code",
      "source": [
        "!pip install langchain_google_genai"
      ],
      "metadata": {
        "collapsed": true,
        "id": "epXuin4Hwryh"
      },
      "execution_count": null,
      "outputs": []
    },
    {
      "cell_type": "code",
      "source": [
        "!pip install langchain"
      ],
      "metadata": {
        "collapsed": true,
        "id": "gkmXEjAMxVh4"
      },
      "execution_count": null,
      "outputs": []
    },
    {
      "cell_type": "code",
      "source": [
        "!apt install google-generative-ai"
      ],
      "metadata": {
        "colab": {
          "base_uri": "https://localhost:8080/"
        },
        "collapsed": true,
        "id": "WQj3tTAzw66T",
        "outputId": "3e07ca8f-ab6d-4503-be72-70ddac25c0a7"
      },
      "execution_count": 2,
      "outputs": [
        {
          "output_type": "stream",
          "name": "stdout",
          "text": [
            "Reading package lists... Done\n",
            "Building dependency tree... Done\n",
            "Reading state information... Done\n",
            "\u001b[1;31mE: \u001b[0mUnable to locate package google-generative-ai\u001b[0m\n"
          ]
        }
      ]
    },
    {
      "cell_type": "markdown",
      "source": [
        "**Step 2: Configure the Gemini Flash Model**"
      ],
      "metadata": {
        "id": "aXB3Cm1GIyz2"
      }
    },
    {
      "cell_type": "code",
      "source": [
        "# import required libraries\n",
        "from google.colab import userdata\n",
        "Gemini_API_key= userdata.get('GOOGLE_API_KEY')"
      ],
      "metadata": {
        "id": "5bHX9-B4484j"
      },
      "execution_count": 8,
      "outputs": []
    },
    {
      "cell_type": "code",
      "source": [
        "from langchain_google_genai import GoogleGenerativeAI\n",
        "from google.colab import userdata"
      ],
      "metadata": {
        "id": "3rS_gprX5J9z"
      },
      "execution_count": 5,
      "outputs": []
    },
    {
      "cell_type": "code",
      "source": [
        "llm= GoogleGenerativeAI(\n",
        "    api_key= Gemini_API_key,\n",
        "    model= \"gemini-1.5-flash\"\n",
        ")"
      ],
      "metadata": {
        "id": "uQOWjQs6t1A2"
      },
      "execution_count": 6,
      "outputs": []
    },
    {
      "cell_type": "markdown",
      "source": [
        "**Step 3: Create a Prompt Template**"
      ],
      "metadata": {
        "id": "byDTMEgbJd5y"
      }
    },
    {
      "cell_type": "code",
      "source": [
        "# import required Template (Any)\n",
        "from langchain import PromptTemplate\n",
        "first_prompt= PromptTemplate(\n",
        "    input_variables= ['1st response'],\n",
        "    template= \"Define in 1 paragraph {1st response}\"\n",
        ")\n",
        "\n",
        "# Create a 1st chain\n",
        "first_chain= first_prompt | llm"
      ],
      "metadata": {
        "id": "ODZAWA_hNLr9"
      },
      "execution_count": 22,
      "outputs": []
    },
    {
      "cell_type": "code",
      "source": [
        "# out put of 1st response\n",
        "first_response = first_chain.invoke(\"what is Astronomy?\")\n",
        "print(first_response)"
      ],
      "metadata": {
        "colab": {
          "base_uri": "https://localhost:8080/"
        },
        "id": "r7wb1bvK5g0T",
        "outputId": "85b8b6cd-4861-4141-e9e4-16f8c0239412"
      },
      "execution_count": 24,
      "outputs": [
        {
          "output_type": "stream",
          "name": "stdout",
          "text": [
            "Astronomy is the scientific study of celestial objects (such as stars, planets, comets, nebulae, and galaxies) and phenomena that originate outside the Earth's atmosphere, including their physical and chemical properties, their origins, and their evolution.  It uses physics, chemistry, and mathematics to explain the observations made using telescopes and other instruments.\n",
            "\n"
          ]
        }
      ]
    },
    {
      "cell_type": "code",
      "source": [
        "# Create a 2nd prompt\n",
        "second_prompt= PromptTemplate(\n",
        "    input_variables= ['2nd response'],\n",
        "    template= \"Define in 5 key points {2nd response}\"\n",
        ")\n",
        "\n",
        "# create a secod chain\n",
        "second_chain= second_prompt | llm\n",
        "# out put of 2nd response\n",
        "second_response= second_chain.invoke(first_response)\n",
        "print(second_response)"
      ],
      "metadata": {
        "id": "fq04CGHnJicv",
        "outputId": "6945145b-4723-4cc4-a792-83fdc25a7db8",
        "colab": {
          "base_uri": "https://localhost:8080/"
        }
      },
      "execution_count": 21,
      "outputs": [
        {
          "output_type": "stream",
          "name": "stdout",
          "text": [
            "Astronomy's 5 key points:\n",
            "\n",
            "1. **Celestial Object Focus:**  Astronomy studies objects beyond Earth's atmosphere, including stars, planets, galaxies, nebulae, and comets.\n",
            "2. **Observation & Measurement:** It relies heavily on observation and precise measurement of these objects' properties (e.g., brightness, distance, composition).\n",
            "3. **Interpretation & Modeling:**  Data gathered is interpreted using physical laws and mathematical models to understand celestial phenomena.\n",
            "4. **Technological Dependence:**  Advanced tools like telescopes and computers are crucial for data collection and analysis.\n",
            "5. **Cosmology & Evolution:**  A primary goal is to understand the origin, evolution, and ultimate fate of the universe.\n",
            "\n"
          ]
        }
      ]
    },
    {
      "cell_type": "markdown",
      "source": [],
      "metadata": {
        "id": "9V7AX7Tg8rO1"
      }
    },
    {
      "cell_type": "markdown",
      "source": [],
      "metadata": {
        "id": "7sih0Hv28yJN"
      }
    }
  ]
}