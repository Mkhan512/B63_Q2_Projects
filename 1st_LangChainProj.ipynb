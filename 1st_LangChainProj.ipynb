{
  "nbformat": 4,
  "nbformat_minor": 0,
  "metadata": {
    "colab": {
      "provenance": [],
      "authorship_tag": "ABX9TyM2+vhXKS48IiZF25SSvRmM",
      "include_colab_link": true
    },
    "kernelspec": {
      "name": "python3",
      "display_name": "Python 3"
    },
    "language_info": {
      "name": "python"
    }
  },
  "cells": [
    {
      "cell_type": "markdown",
      "metadata": {
        "id": "view-in-github",
        "colab_type": "text"
      },
      "source": [
        "<a href=\"https://colab.research.google.com/github/Mkhan512/B63_Q2_Projects/blob/LangChain_Projects/1st_LangChainProj.ipynb\" target=\"_parent\"><img src=\"https://colab.research.google.com/assets/colab-badge.svg\" alt=\"Open In Colab\"/></a>"
      ]
    },
    {
      "cell_type": "markdown",
      "source": [
        "#Project 1: LangChain Hello World Project\n",
        "            In this Project, we will create a simple LangChain Colab Notebook that uses the Google Gemini Flash 2.0 model to answer user questions. This example below is provided to help you get started assumes you have access to the Gemini API and a basic Python environment. However, you are required to develop and submit your project using Google Colab."
      ],
      "metadata": {
        "id": "kjDcrBbn81yQ"
      }
    },
    {
      "cell_type": "code",
      "source": [
        "!wget http://libarchive.googlecode.com/files/libarchive-3.0.3.tar.gz\n",
        "!tar xzf libarchive-3.0.3.tar.gz"
      ],
      "metadata": {
        "collapsed": true,
        "id": "Yftjo6RfpKW9"
      },
      "execution_count": null,
      "outputs": []
    },
    {
      "cell_type": "code",
      "source": [
        "%cd libarchive-3.0.3\n",
        "!./build/autogen.sh\n",
        "!./configure --prefix=/usr/local\n",
        "!make\n",
        "!make install"
      ],
      "metadata": {
        "id": "2eVbrU-Oo0EU"
      },
      "execution_count": null,
      "outputs": []
    },
    {
      "cell_type": "code",
      "source": [
        "!pip install langchain.GOOGLE_genai"
      ],
      "metadata": {
        "collapsed": true,
        "id": "HXGEk7KQpAmh"
      },
      "execution_count": null,
      "outputs": []
    },
    {
      "cell_type": "code",
      "source": [
        "!pip install langchain_google_genai"
      ],
      "metadata": {
        "collapsed": true,
        "id": "epXuin4Hwryh"
      },
      "execution_count": null,
      "outputs": []
    },
    {
      "cell_type": "code",
      "source": [
        "!pip install langchain"
      ],
      "metadata": {
        "collapsed": true,
        "id": "gkmXEjAMxVh4"
      },
      "execution_count": null,
      "outputs": []
    },
    {
      "cell_type": "code",
      "source": [
        "!apt install google-generative-ai"
      ],
      "metadata": {
        "collapsed": true,
        "id": "WQj3tTAzw66T"
      },
      "execution_count": null,
      "outputs": []
    },
    {
      "cell_type": "code",
      "source": [
        "from google.colab import userdata\n",
        "Gemini_API_key= userdata.get('GOOGLE_API_KEY')"
      ],
      "metadata": {
        "id": "5bHX9-B4484j"
      },
      "execution_count": 23,
      "outputs": []
    },
    {
      "cell_type": "code",
      "source": [
        "from langchain_google_genai import GoogleGenerativeAI\n",
        "from google.colab import userdata"
      ],
      "metadata": {
        "id": "3rS_gprX5J9z"
      },
      "execution_count": 24,
      "outputs": []
    },
    {
      "cell_type": "code",
      "source": [
        "llm= GoogleGenerativeAI(\n",
        "    api_key= Gemini_API_key,\n",
        "    model= \"gemini-1.5-flash\"\n",
        ")"
      ],
      "metadata": {
        "id": "uQOWjQs6t1A2"
      },
      "execution_count": 25,
      "outputs": []
    },
    {
      "cell_type": "code",
      "source": [
        "response = llm.invoke(\"what is PIAIC\")\n",
        "print(response)"
      ],
      "metadata": {
        "colab": {
          "base_uri": "https://localhost:8080/"
        },
        "id": "r7wb1bvK5g0T",
        "outputId": "d5b9a28f-8ea0-40e2-edbf-e9ec86386dd0"
      },
      "execution_count": 31,
      "outputs": [
        {
          "output_type": "stream",
          "name": "stdout",
          "text": [
            "PIAIC stands for **Pakistan Artificial Intelligence Research Institute**.  It's a Pakistani government initiative aimed at promoting and developing artificial intelligence (AI) skills and research within the country.  They offer various training programs and resources related to AI.\n",
            "\n"
          ]
        }
      ]
    },
    {
      "cell_type": "markdown",
      "source": [],
      "metadata": {
        "id": "9V7AX7Tg8rO1"
      }
    },
    {
      "cell_type": "markdown",
      "source": [],
      "metadata": {
        "id": "7sih0Hv28yJN"
      }
    }
  ]
}